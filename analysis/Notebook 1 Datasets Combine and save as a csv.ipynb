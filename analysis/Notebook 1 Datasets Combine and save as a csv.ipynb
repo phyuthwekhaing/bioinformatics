{
 "cells": [
  {
   "cell_type": "markdown",
   "id": "cd2dccd3",
   "metadata": {},
   "source": [
    "1. Import Modules required"
   ]
  },
  {
   "cell_type": "code",
   "execution_count": null,
   "id": "04f861e2",
   "metadata": {},
   "outputs": [],
   "source": [
    "import pandas as pd\n",
    "import numpy as np\n",
    "import matplotlib.pyplot as plt\n",
    "import seaborn as sns\n",
    "from qmplot import manhattanplot\n",
    "import re\n",
    "from numpy.linalg import inv\n",
    "from pathlib import Path \n",
    "plt.rcdefaults()"
   ]
  },
  {
   "cell_type": "code",
   "execution_count": null,
   "id": "c3959c0c",
   "metadata": {},
   "outputs": [],
   "source": [
    "df_GCN = pd.read_table(\"../dataset/LocalDatasets/Stinson_GCN_hg19.tsv\", low_memory=False)"
   ]
  },
  {
   "cell_type": "markdown",
   "id": "89325c7f",
   "metadata": {},
   "source": [
    "2. Reading all data sets."
   ]
  },
  {
   "cell_type": "code",
   "execution_count": null,
   "id": "6fefc673",
   "metadata": {},
   "outputs": [],
   "source": [
    "df_fasting_glucose = pd.read_table(\"../dataset/FastingGlucose/34059833-GCST90002232-EFO_0004468-Build37.f.tsv\", low_memory=False)\n",
    "df_fasting_insulin = pd.read_table(\"../dataset/FastingInsulin/34059833-GCST90002238-EFO_0004467-Build37.f.tsv\", low_memory=False)\n",
    "df_HbA1c = pd.read_table(\"../dataset/HbA1c/34059833-GCST90002244-EFO_0004541-Build37.f.tsv\", low_memory=False)\n",
    "df_BMI = pd.read_table(\"../dataset/LocalDatasets/Loh_BodyMassIndex_hg19.tsv\", low_memory=False)\n",
    "df_T2D = pd.read_table(\"../dataset/LocalDatasets/Mahajan_AST_hg19.tsv\", low_memory=False)\n",
    "df_GCN = pd.read_table(\"../dataset/LocalDatasets/Stinson_GCN_hg19.tsv\", low_memory=False)"
   ]
  },
  {
   "cell_type": "code",
   "execution_count": null,
   "id": "dc9b5b21",
   "metadata": {},
   "outputs": [],
   "source": []
  },
  {
   "cell_type": "markdown",
   "id": "05d02fc2",
   "metadata": {},
   "source": [
    "3. Reformatting BMI because it's not harmonised like the rest."
   ]
  },
  {
   "cell_type": "code",
   "execution_count": null,
   "id": "6592ccf0",
   "metadata": {},
   "outputs": [],
   "source": [
    "df_BMI = df_BMI.rename(columns={\"chr\": \"chromosome\", \"pos\": \"base_pair_location\", \n",
    "                                        \"Allele1\": \"effect_allele\", \"Allele2\": \"other_allele\",\n",
    "                                        \"Freq1\": \"effect_allele_frequency\", \"Effect\": \"beta\",\n",
    "                                        \"P-value\": \"p_value\",\n",
    "                                        \"StdErr\": \"standard_error\"})"
   ]
  },
  {
   "cell_type": "code",
   "execution_count": null,
   "id": "a0065fc0",
   "metadata": {},
   "outputs": [],
   "source": [
    "df_BMI"
   ]
  },
  {
   "cell_type": "code",
   "execution_count": null,
   "id": "016cd351",
   "metadata": {},
   "outputs": [],
   "source": [
    "df_BMI['effect_allele'].value_counts()"
   ]
  },
  {
   "cell_type": "code",
   "execution_count": null,
   "id": "583ecb73",
   "metadata": {},
   "outputs": [],
   "source": [
    "df_BMI.loc[df_BMI.effect_allele == 'a', 'effect_allele'] = 'A'"
   ]
  },
  {
   "cell_type": "code",
   "execution_count": null,
   "id": "47ebecd7",
   "metadata": {},
   "outputs": [],
   "source": [
    "df_BMI.loc[df_BMI.effect_allele == 't', 'effect_allele'] = 'T'"
   ]
  },
  {
   "cell_type": "code",
   "execution_count": null,
   "id": "fc92a91e",
   "metadata": {},
   "outputs": [],
   "source": [
    "df_BMI.loc[df_BMI.effect_allele == 'c', 'effect_allele'] = 'C'"
   ]
  },
  {
   "cell_type": "code",
   "execution_count": null,
   "id": "4d620dce",
   "metadata": {},
   "outputs": [],
   "source": [
    "df_BMI"
   ]
  },
  {
   "cell_type": "code",
   "execution_count": null,
   "id": "6e1206e8",
   "metadata": {},
   "outputs": [],
   "source": [
    "df_BMI['other_allele'].value_counts()"
   ]
  },
  {
   "cell_type": "code",
   "execution_count": null,
   "id": "50756f57",
   "metadata": {},
   "outputs": [],
   "source": [
    "df_BMI.loc[df_BMI.other_allele == 'g', 'other_allele'] = 'G'"
   ]
  },
  {
   "cell_type": "code",
   "execution_count": null,
   "id": "0fbf8379",
   "metadata": {},
   "outputs": [],
   "source": [
    "df_BMI.loc[df_BMI.other_allele == 'c', 'other_allele'] = 'C'"
   ]
  },
  {
   "cell_type": "code",
   "execution_count": null,
   "id": "ee44b4d8",
   "metadata": {},
   "outputs": [],
   "source": [
    "df_BMI.loc[df_BMI.other_allele == 't', 'other_allele'] = 'T'"
   ]
  },
  {
   "cell_type": "code",
   "execution_count": null,
   "id": "7bc348bb",
   "metadata": {},
   "outputs": [],
   "source": [
    "df_T2D"
   ]
  },
  {
   "cell_type": "code",
   "execution_count": null,
   "id": "62f16cf4",
   "metadata": {},
   "outputs": [],
   "source": [
    "df_T2D = df_T2D.rename(columns={\"CHROM\": \"chromosome\", \"POS\": \"base_pair_location\", \n",
    "                                        \"EA\": \"effect_allele\", \"OA\": \"other_allele\",\n",
    "                                        \"EAF\": \"effect_allele_frequency\", \"ES\": \"beta\",\n",
    "                                        \"P\": \"p_value\",\n",
    "                                        \"SE\": \"standard_error\"})"
   ]
  },
  {
   "cell_type": "code",
   "execution_count": null,
   "id": "1b25521c",
   "metadata": {},
   "outputs": [],
   "source": [
    "df_GCN"
   ]
  },
  {
   "cell_type": "markdown",
   "id": "5467d928",
   "metadata": {},
   "source": [
    "4. Reformatting Dataframe"
   ]
  },
  {
   "cell_type": "code",
   "execution_count": null,
   "id": "247cbefe",
   "metadata": {},
   "outputs": [],
   "source": [
    "def reformat_df(df):\n",
    "    df.loc[df[\"chromosome\"] == \"X\", 'chromosome'] = 23\n",
    "    df.loc[df[\"chromosome\"] == \"XY\", 'chromosome'] = 24\n",
    "    df.loc[df[\"chromosome\"] == \"MT\", 'chromosome'] = 25\n",
    "    df.loc[df[\"chromosome\"] == \"Y\", 'chromosome'] = 26\n",
    "\n",
    "    df = df.astype({'chromosome':'int'})\n",
    "    \n",
    "    df = df.dropna(subset=['chromosome', 'p_value', 'effect_allele', 'other_allele', 'beta', 'p_value', 'standard_error'])\n",
    "    df = df.drop_duplicates(subset=['chromosome', 'base_pair_location', 'effect_allele', 'other_allele'], keep='last')\n",
    "    df = df.sort_values(by = ['chromosome']).reset_index()\n",
    "    return df"
   ]
  },
  {
   "cell_type": "code",
   "execution_count": null,
   "id": "7aa523a4",
   "metadata": {},
   "outputs": [],
   "source": [
    "df_T2D"
   ]
  },
  {
   "cell_type": "code",
   "execution_count": null,
   "id": "490da605",
   "metadata": {},
   "outputs": [],
   "source": [
    "df_GCN"
   ]
  },
  {
   "cell_type": "code",
   "execution_count": null,
   "id": "84a2ed5b",
   "metadata": {},
   "outputs": [],
   "source": [
    "df_GCN = df_GCN.rename(columns={\"CHROM\": \"chromosome\", \"POS\": \"base_pair_location\", \n",
    "                                        \"EA\": \"effect_allele\", \"OA\": \"other_allele\",\n",
    "                                        \"EAF\": \"effect_allele_frequency\", \"ES\": \"beta\",\n",
    "                                        \"P\": \"p_value\",\n",
    "                                        \"SE\": \"standard_error\"})"
   ]
  },
  {
   "cell_type": "code",
   "execution_count": null,
   "id": "1c9cfe04",
   "metadata": {},
   "outputs": [],
   "source": [
    "df_GCN"
   ]
  },
  {
   "cell_type": "code",
   "execution_count": null,
   "id": "4c016603",
   "metadata": {},
   "outputs": [],
   "source": [
    "df_T2D"
   ]
  },
  {
   "cell_type": "code",
   "execution_count": null,
   "id": "61d35cde",
   "metadata": {},
   "outputs": [],
   "source": [
    "df_fasting_insulin"
   ]
  },
  {
   "cell_type": "code",
   "execution_count": null,
   "id": "c4e5421f",
   "metadata": {},
   "outputs": [],
   "source": [
    "df_GCN = reformat_df(df_GCN)"
   ]
  },
  {
   "cell_type": "code",
   "execution_count": null,
   "id": "0d804c77",
   "metadata": {},
   "outputs": [],
   "source": [
    "#Removed duplicates\n",
    "df_fasting_insulin = reformat_df(df_fasting_insulin)\n",
    "df_fasting_glucose = reformat_df(df_fasting_glucose)\n",
    "df_HbA1c = reformat_df(df_HbA1c)\n",
    "df_BMI = reformat_df(df_BMI)\n",
    "df_T2D = reformat_df(df_T2D)\n",
    "df_GCN = reformat_df(df_GCN)"
   ]
  },
  {
   "cell_type": "code",
   "execution_count": null,
   "id": "3de78ec4",
   "metadata": {},
   "outputs": [],
   "source": []
  },
  {
   "cell_type": "code",
   "execution_count": null,
   "id": "d909a3e0",
   "metadata": {},
   "outputs": [],
   "source": [
    "df_fasting_insulin.shape"
   ]
  },
  {
   "cell_type": "code",
   "execution_count": null,
   "id": "67f33495",
   "metadata": {},
   "outputs": [],
   "source": [
    "count_fi = df_fasting_insulin.shape[0]\n",
    "count_fg = df_fasting_glucose.shape[0]\n",
    "count_hba1c = df_HbA1c.shape[0]\n",
    "count_bmi = df_BMI.shape[0]\n",
    "count_t2d = df_T2D.shape[0]\n",
    "count_gcn = df_GCN.shape[0]"
   ]
  },
  {
   "cell_type": "code",
   "execution_count": null,
   "id": "785cd414",
   "metadata": {},
   "outputs": [],
   "source": [
    "def calculate_z(df):\n",
    "    df['z_score'] = df['beta']/df['standard_error']\n",
    "    return df\n",
    "\n",
    "def sub_set(df, chromosome):\n",
    "    #sub table\n",
    "    df =  df[['chromosome', 'base_pair_location', 'effect_allele', \n",
    "                                            'other_allele', 'effect_allele_frequency', 'beta','standard_error', 'p_value']]\n",
    "    df= df[df.chromosome == chromosome]\n",
    "    return df\n",
    "    \n",
    "def merge_(df1, df2, df1z_short = '', df2z_short = ''):\n",
    "    df_sub = df1.merge(df2, on=['chromosome','base_pair_location', 'effect_allele', \n",
    "                                            'other_allele'], how = 'outer').sort_index(axis=1)\n",
    "    \n",
    "    if (len(df1z_short) > 0) & (len(df2z_short) > 0):\n",
    "        z_score_x = f\"{df1z_short}_z\"\n",
    "        z_score_y = f\"{df2z_short}_z\"\n",
    "        beta_x = f\"{df1z_short}_beta\"\n",
    "        beta_y = f\"{df2z_short}_beta\"\n",
    "        p_value_x = f\"{df1z_short}_p_value\"\n",
    "        p_value_y = f\"{df2z_short}_p_value\"\n",
    "        standard_error_x = f\"{df1z_short}_standard_error\"\n",
    "        standard_error_y = f\"{df2z_short}_standard_error\"\n",
    "        df_sub = df_sub.rename(columns={\"z_score_x\": z_score_x, \"z_score_y\": z_score_y, \n",
    "                                        \"beta_x\": beta_x, \"beta_y\": beta_y,\n",
    "                                        \"p_value_x\": p_value_x, \"p_value_y\": p_value_y,\n",
    "                                        \"standard_error_x\": standard_error_x,\n",
    "                                        \"standard_error_y\": standard_error_y})\n",
    "    return df_sub\n",
    "\n",
    "def chromosome_(df, chrom):\n",
    "    df_chrm = sub_set(df, chrom)\n",
    "    df_chrm = calculate_z(df_chrm)\n",
    "    return df_chrm\n",
    "    \n",
    "\n",
    "#all 6 traits   \n",
    "def get_chromosome(chrm):\n",
    "    df_fasting_insulin_chrm = chromosome_(df_fasting_insulin, chrm)\n",
    "    df_fasting_glucose_chrm = chromosome_(df_fasting_glucose, chrm)\n",
    "    df_HbA1c_chrm = chromosome_(df_HbA1c, chrm)\n",
    "    df_BMI_chrm = chromosome_(df_BMI, chrm)\n",
    "    df_T2D_chrm = chromosome_(df_T2D, chrm)\n",
    "    df_GCN_chrm = chromosome_(df_GCN, chrm)\n",
    "    df_fasting_insulin_chrm = df_fasting_insulin_chrm[['chromosome', 'base_pair_location', 'effect_allele', \n",
    "                                            'other_allele', 'effect_allele_frequency', 'z_score']]\n",
    "    df_fasting_glucose_chrm = df_fasting_glucose_chrm[['chromosome', 'base_pair_location', 'effect_allele', \n",
    "                                            'other_allele','effect_allele_frequency', 'z_score']]\n",
    "    df_HbA1c_chrm = df_HbA1c_chrm[['chromosome', 'base_pair_location', 'effect_allele', \n",
    "                                            'other_allele', 'effect_allele_frequency','z_score']]\n",
    "    df_BMI_chrm = df_BMI_chrm[['chromosome', 'base_pair_location', 'effect_allele', \n",
    "                                            'other_allele', 'effect_allele_frequency','z_score']]\n",
    "    df_T2D_chrm = df_T2D_chrm[['chromosome', 'base_pair_location', 'effect_allele', \n",
    "                                            'other_allele', 'effect_allele_frequency','z_score']]\n",
    "    df_GCN_chrm = df_GCN_chrm[['chromosome', 'base_pair_location', 'effect_allele', \n",
    "                                            'other_allele', 'effect_allele_frequency','z_score']]\n",
    "    df_1 = merge_(df_fasting_insulin_chrm, df_fasting_glucose_chrm, 'fi', 'fg')\n",
    "    df_2 = merge_(df_HbA1c_chrm, df_BMI_chrm, 'hba1c', 'bmi')\n",
    "    df_3 = merge_(df_T2D_chrm, df_GCN_chrm, 't2d', 'gcn')\n",
    "    \n",
    "    df_4 = merge_(df_1, df_2)\n",
    "    df = merge_(df_3, df_4)\n",
    "    \n",
    "    return df"
   ]
  },
  {
   "cell_type": "code",
   "execution_count": null,
   "id": "05ed457a",
   "metadata": {},
   "outputs": [],
   "source": [
    "df_candidate = get_chromosome(1)"
   ]
  },
  {
   "cell_type": "code",
   "execution_count": null,
   "id": "6d1e775a",
   "metadata": {},
   "outputs": [],
   "source": [
    "df_candidate"
   ]
  },
  {
   "cell_type": "code",
   "execution_count": null,
   "id": "74a436bf",
   "metadata": {},
   "outputs": [],
   "source": [
    "df_candidate = df_candidate[['chromosome','base_pair_location', 'effect_allele', \n",
    "                                            'other_allele', 'fi_z', 'fg_z', 'hba1c_z', 't2d_z', 'bmi_z', 'gcn_z']]"
   ]
  },
  {
   "cell_type": "code",
   "execution_count": null,
   "id": "60cffa24",
   "metadata": {},
   "outputs": [],
   "source": [
    "df_candidate"
   ]
  },
  {
   "cell_type": "code",
   "execution_count": null,
   "id": "81d08059",
   "metadata": {},
   "outputs": [],
   "source": [
    "df_candidate[df_candidate.chromosome == 1]"
   ]
  },
  {
   "cell_type": "markdown",
   "id": "014dbbc6",
   "metadata": {},
   "source": [
    "Use pd.concat instead below\n",
    "pd.concat([df7, new_row.to_frame().T], ignore_index=True)"
   ]
  },
  {
   "cell_type": "code",
   "execution_count": null,
   "id": "775dd421",
   "metadata": {},
   "outputs": [],
   "source": [
    "for i in range (2, 27):\n",
    "    df = get_chromosome(i)\n",
    "    dft = df[['chromosome', 'base_pair_location','effect_allele', 'other_allele', \n",
    "             'fi_z', 'fg_z', 'hba1c_z', 't2d_z','bmi_z', 'gcn_z']]\n",
    "    df_candidate = df_candidate.append(dft)\n",
    "\n",
    "df_candidate"
   ]
  },
  {
   "cell_type": "code",
   "execution_count": null,
   "id": "a45cc759",
   "metadata": {},
   "outputs": [],
   "source": [
    "df_candidate.dropna(subset=[\"t2d_z\", \"bmi_z\"])"
   ]
  },
  {
   "cell_type": "code",
   "execution_count": null,
   "id": "66d47c93",
   "metadata": {},
   "outputs": [],
   "source": [
    "df_BMI.shape"
   ]
  },
  {
   "cell_type": "code",
   "execution_count": null,
   "id": "1f79fd65",
   "metadata": {},
   "outputs": [],
   "source": [
    "filepath = Path('../output_csv/df_candidate_1.csv')  \n",
    "filepath.parent.mkdir(parents=True, exist_ok=True) \n",
    "#save progress after omni p values\n",
    "df_candidate.to_csv(filepath, index=False, sep = ';') "
   ]
  },
  {
   "cell_type": "code",
   "execution_count": null,
   "id": "6941d286",
   "metadata": {},
   "outputs": [],
   "source": [
    "df_candidate[df_candidate.duplicated(subset=['chromosome', 'base_pair_location'])]"
   ]
  },
  {
   "cell_type": "code",
   "execution_count": null,
   "id": "38241787",
   "metadata": {},
   "outputs": [],
   "source": [
    "df_duplicates = df_candidate[df_candidate.duplicated(subset=['chromosome', 'base_pair_location'], keep = False)]"
   ]
  },
  {
   "cell_type": "code",
   "execution_count": null,
   "id": "65cc7577",
   "metadata": {},
   "outputs": [],
   "source": [
    "df_duplicates"
   ]
  },
  {
   "cell_type": "code",
   "execution_count": null,
   "id": "0c1edde3",
   "metadata": {},
   "outputs": [],
   "source": [
    "df_duplicate_snps = df_duplicates[df_duplicates.duplicated(subset=['chromosome', 'base_pair_location'], keep='last')]"
   ]
  },
  {
   "cell_type": "code",
   "execution_count": null,
   "id": "aa24a15a",
   "metadata": {},
   "outputs": [],
   "source": [
    "df_duplicate_snps"
   ]
  },
  {
   "cell_type": "code",
   "execution_count": null,
   "id": "f24b7643",
   "metadata": {},
   "outputs": [],
   "source": [
    "df_duplicate_snps.index"
   ]
  },
  {
   "cell_type": "code",
   "execution_count": null,
   "id": "ada67972",
   "metadata": {},
   "outputs": [],
   "source": [
    "df_compare_snps = df_duplicates.drop(df_duplicate_snps.index)"
   ]
  },
  {
   "cell_type": "code",
   "execution_count": null,
   "id": "d005608c",
   "metadata": {},
   "outputs": [],
   "source": [
    "df_compare_snps"
   ]
  },
  {
   "cell_type": "code",
   "execution_count": null,
   "id": "6cb7515b",
   "metadata": {},
   "outputs": [],
   "source": [
    "df_combine = df_duplicate_snps.merge(df_compare_snps, on=['chromosome','base_pair_location'], how = 'outer').sort_index(axis=1)"
   ]
  },
  {
   "cell_type": "code",
   "execution_count": null,
   "id": "dc77d08a",
   "metadata": {},
   "outputs": [],
   "source": [
    "df_combine   "
   ]
  },
  {
   "cell_type": "code",
   "execution_count": null,
   "id": "3ea621ac",
   "metadata": {},
   "outputs": [],
   "source": [
    "df_combine[(df_combine.effect_allele_x == df_combine.other_allele_y)]"
   ]
  },
  {
   "cell_type": "code",
   "execution_count": null,
   "id": "2870b3e9",
   "metadata": {},
   "outputs": [],
   "source": [
    "df_combine[(df_combine.effect_allele_x == df_combine.other_allele_y)& (df_combine.other_allele_x == df_combine.effect_allele_y)]"
   ]
  },
  {
   "cell_type": "code",
   "execution_count": null,
   "id": "535450fc",
   "metadata": {},
   "outputs": [],
   "source": [
    "df_candidate"
   ]
  },
  {
   "cell_type": "code",
   "execution_count": null,
   "id": "d6d2dfed",
   "metadata": {},
   "outputs": [],
   "source": [
    "df_candidate = df_candidate[['chromosome', 'base_pair_location','effect_allele', 'other_allele', \n",
    "             'fi_z', 'fg_z', 'hba1c_z', 't2d_z', 'bmi_z', 'gcn_z']]"
   ]
  },
  {
   "cell_type": "code",
   "execution_count": null,
   "id": "412d078e",
   "metadata": {},
   "outputs": [],
   "source": [
    "df_candidate"
   ]
  },
  {
   "cell_type": "code",
   "execution_count": null,
   "id": "7ddc4145",
   "metadata": {},
   "outputs": [],
   "source": [
    "filepath = Path('../output_csv/df_candidate.csv')  \n",
    "filepath.parent.mkdir(parents=True, exist_ok=True) "
   ]
  },
  {
   "cell_type": "code",
   "execution_count": null,
   "id": "56ce3026",
   "metadata": {},
   "outputs": [],
   "source": [
    "#save progress after omni p values\n",
    "df_candidate.to_csv(filepath, index=False, sep = ';') "
   ]
  },
  {
   "cell_type": "code",
   "execution_count": null,
   "id": "05b5fb6c",
   "metadata": {},
   "outputs": [],
   "source": [
    "df_candidate.dropna().shape[0]"
   ]
  },
  {
   "cell_type": "code",
   "execution_count": null,
   "id": "b4485003",
   "metadata": {},
   "outputs": [],
   "source": [
    "count_all = df_candidate.dropna().shape[0]"
   ]
  },
  {
   "cell_type": "code",
   "execution_count": null,
   "id": "5756109c",
   "metadata": {},
   "outputs": [],
   "source": [
    "colors = plt.cm.PuBuGn(np.linspace(0, 0.7, 10))\n",
    "\n",
    "colors_red = plt.cm.YlOrRd(np.linspace(0, 0.7, 10))\n",
    "\n",
    "objects = ('FI', 'FG', 'HbA1c', 'T2D', 'BMI', 'GCN', 'Common')\n",
    "y_pos = np.arange(len(objects))\n",
    "performance = [count_fi,count_fg,count_hba1c,count_t2d,count_bmi,count_gcn, count_all]\n",
    "\n",
    "plt.bar(y_pos, performance, align='center', color = colors[9])\n",
    "plt.xticks(y_pos, objects)\n",
    "plt.ylabel('Number of snps')\n",
    "plt.xlabel('GWAS Study')\n",
    "plt.title('Number of SNPs from each GWAS study', pad=20)\n",
    "plt.savefig('../output_figs/fig1_num_snps.png')\n",
    "plt.show()"
   ]
  },
  {
   "cell_type": "code",
   "execution_count": null,
   "id": "ce0b0ec3",
   "metadata": {},
   "outputs": [],
   "source": [
    "def format_plotdf(df):\n",
    "    df = df.rename(columns={\"chromosome\": \"#CHROM\", \"base_pair_location\": \"POS\", \"p_value\": \"P\"})\n",
    "    df.dropna(subset=['#CHROM', 'P'])\n",
    "    \n",
    "    df = df.sort_values(by = ['#CHROM', \"POS\"]).reset_index()\n",
    "\n",
    "    return df"
   ]
  },
  {
   "cell_type": "code",
   "execution_count": null,
   "id": "596b2eff",
   "metadata": {},
   "outputs": [],
   "source": [
    "def plot_manhatten_plots(df, figname):\n",
    "    # generate manhattan plot and set an output file.\n",
    "    colors_red = plt.cm.YlOrRd(np.linspace(0, 0.7, 10))\n",
    "    xtick = set(['chr' + i for i in list(map(str, range(1, 10))) + ['11', '13', '15', '18', '21', '22', 'X', 'XY', 'MT']])\n",
    "    f, ax = plt.subplots(figsize=(12, 4), facecolor='w', edgecolor='k')\n",
    "    manhattanplot(data=df,\n",
    "                  marker=\".\",\n",
    "                  sign_marker_p=5e-8,  # Genome wide significant p-value\n",
    "                  sign_marker_color=colors[7],\n",
    "                  snp=\"POS\",\n",
    "\n",
    "                  title=figname,\n",
    "                  xlabel=\"Chromosome\",\n",
    "                  ylabel=r\"$-log_{10}{(P)}$\",\n",
    "\n",
    "                  sign_line_cols=[\"#D62728\", \"#2CA02C\"],\n",
    "                  hline_kws={\"linestyle\": \"--\", \"lw\": 1.3},\n",
    "                  ld_block_size=500000,  # 500000 bp\n",
    "                  text_kws={\"fontsize\": 12,  # The fontsize of annotate text\n",
    "                            \"arrowprops\": dict(arrowstyle=\"-\", color=\"k\", alpha=0.6)},\n",
    "                  ax=ax)\n",
    "    plt.title(figname)\n",
    "    plt.savefig(f'../output_figs/{re.sub(r\"[^a-zA-Z0-9]\",\"\",figname)}.jpg', dpi=400, bbox_inches='tight')\n",
    "    plt.show()"
   ]
  },
  {
   "cell_type": "code",
   "execution_count": null,
   "id": "383bd617",
   "metadata": {},
   "outputs": [],
   "source": [
    "df_plot_fasting_insulin = format_plotdf(df_fasting_insulin[df_fasting_insulin.p_value < 1e-4])"
   ]
  },
  {
   "cell_type": "code",
   "execution_count": null,
   "id": "b452872b",
   "metadata": {},
   "outputs": [],
   "source": [
    "df_fasting_insulin"
   ]
  },
  {
   "cell_type": "code",
   "execution_count": null,
   "id": "2cb270ce",
   "metadata": {},
   "outputs": [],
   "source": [
    "df_plot_fasting_insulin"
   ]
  },
  {
   "cell_type": "code",
   "execution_count": null,
   "id": "02902b7f",
   "metadata": {},
   "outputs": [],
   "source": [
    "def formatdf_plot(df):\n",
    "    df = df.rename(columns={\"chromosome\": \"CHR\", \"base_pair_location\": \"BP\" ,\"p_value\": \"P\"})\n",
    "    df.dropna(subset=['CHR', 'P'])\n",
    "    \n",
    "    df[\"SNP\"] = df[\"BP\"]\n",
    "    df[\"GENE\"] = \"Not Given\"\n",
    "    df[\"DISTANCE\"] = \"Not Given\" \n",
    "    \n",
    "    df = df.sort_values(by = ['CHR', \"BP\"]).reset_index().drop(columns='index')\n",
    "\n",
    "    return df"
   ]
  },
  {
   "cell_type": "code",
   "execution_count": null,
   "id": "5ac2dbb5",
   "metadata": {},
   "outputs": [],
   "source": [
    "df_fasting_insulin_plot = formatdf_plot(df_fasting_insulin)"
   ]
  },
  {
   "cell_type": "code",
   "execution_count": null,
   "id": "ad7fa4af",
   "metadata": {},
   "outputs": [],
   "source": [
    "df_fasting_insulin_plot"
   ]
  },
  {
   "cell_type": "code",
   "execution_count": null,
   "id": "92b2479f",
   "metadata": {},
   "outputs": [],
   "source": [
    "import dash_bio\n",
    "dash_bio.ManhattanPlot(\n",
    "    dataframe=df_fasting_insulin_plot[df_fasting_insulin_plot.P < 1e-5].reset_index().drop(columns=\"index\"),\n",
    "    highlight_color='#00FFAA',\n",
    "    suggestiveline_color='#AA00AA',\n",
    "    genomewideline_color='#AA5500'\n",
    ")"
   ]
  },
  {
   "cell_type": "code",
   "execution_count": null,
   "id": "3360c46a",
   "metadata": {},
   "outputs": [],
   "source": [
    "df_fasting_glucose_plot = formatdf_plot(df_fasting_glucose)\n",
    "dash_bio.ManhattanPlot(\n",
    "    dataframe=df_fasting_glucose_plot[df_fasting_glucose_plot.P < 1e-5].reset_index().drop(columns=\"index\"),\n",
    "    highlight_color='#00FFAA',\n",
    "    suggestiveline_color='#AA00AA',\n",
    "    genomewideline_color='#AA5500'\n",
    ")"
   ]
  },
  {
   "cell_type": "code",
   "execution_count": null,
   "id": "f18be4c6",
   "metadata": {},
   "outputs": [],
   "source": [
    "df_HbA1c_plot = formatdf_plot(df_HbA1c)\n",
    "dash_bio.ManhattanPlot(\n",
    "    dataframe=df_HbA1c_plot[df_HbA1c_plot.P < 1e-5].reset_index().drop(columns=\"index\"),\n",
    "    highlight_color='#00FFAA',\n",
    "    suggestiveline_color='#AA00AA',\n",
    "    genomewideline_color='#AA5500'\n",
    ")"
   ]
  },
  {
   "cell_type": "code",
   "execution_count": null,
   "id": "86abe5b8",
   "metadata": {},
   "outputs": [],
   "source": [
    "df_T2D_plot = formatdf_plot(df_T2D)\n",
    "dash_bio.ManhattanPlot(\n",
    "    dataframe=df_T2D_plot[df_T2D_plot.P < 1e-5].reset_index().drop(columns=\"index\"),\n",
    "    highlight_color='#00FFAA',\n",
    "    suggestiveline_color='#AA00AA',\n",
    "    genomewideline_color='#AA5500'\n",
    ")"
   ]
  },
  {
   "cell_type": "code",
   "execution_count": null,
   "id": "1072d716",
   "metadata": {},
   "outputs": [],
   "source": [
    "df_BMI_plot = formatdf_plot(df_BMI)\n",
    "dash_bio.ManhattanPlot(\n",
    "    dataframe=df_BMI_plot[df_BMI_plot.P < 1e-5].reset_index().drop(columns=\"index\"),\n",
    "    highlight_color='#00FFAA',\n",
    "    suggestiveline_color='#AA00AA',\n",
    "    genomewideline_color='#AA5500'\n",
    ")"
   ]
  },
  {
   "cell_type": "code",
   "execution_count": null,
   "id": "c5b216fd",
   "metadata": {},
   "outputs": [],
   "source": [
    "df_GCN_plot = formatdf_plot(df_GCN)\n",
    "dash_bio.ManhattanPlot(\n",
    "    dataframe=df_GCN_plot[df_GCN_plot.P < 1e-5].reset_index().drop(columns=\"index\"),\n",
    "    highlight_color='#00FFAA',\n",
    "    suggestiveline_color='#AA00AA',\n",
    "    genomewideline_color='#AA5500'\n",
    ")"
   ]
  },
  {
   "cell_type": "code",
   "execution_count": null,
   "id": "3b513b6a",
   "metadata": {},
   "outputs": [],
   "source": [
    "def significant_loci_counts(df):\n",
    "    list_chromosomes = []\n",
    "    for chromosome in set(df.chromosome):\n",
    "        list_loci = []\n",
    "        bp_pos = []\n",
    "        df_chromosome = df[df.chromosome == chromosome]\n",
    "        df_chromosome = df_chromosome.sort_values(by = ['base_pair_location']).reset_index()\n",
    "        df_chromosome = df_chromosome.drop(['index'], axis=1)\n",
    "        df_chromosome.reset_index(inplace=True, drop=True); \n",
    "        df_significant_chromosome = df_chromosome[df_chromosome['p_value'] < 5e-8]\n",
    "        if(len(df_significant_chromosome) > 0):\n",
    "            first_bp = df_significant_chromosome.base_pair_location.to_list()[0]\n",
    "            counter = 1\n",
    "            for bp in df_significant_chromosome.base_pair_location:\n",
    "                if first_bp == 0:\n",
    "                    bp_pos = []\n",
    "                    bp_pos.append(first_bp)\n",
    "                    first_bp = bp\n",
    "                    counter = 0\n",
    "                elif(bp - first_bp < 1000000):\n",
    "                    counter+= 1\n",
    "                    bp_pos.append(bp)\n",
    "                    continue\n",
    "                else:\n",
    "                   #if(counter > 10): \n",
    "                   list_loci.append({\"start_pos\": first_bp, \"end_pos\": bp_pos[len(bp_pos) - 1], \"bp_pos\":bp_pos, \"sig_count\": counter})\n",
    "                   first_bp = 0\n",
    "            list_chromosomes.append({'chromosome': chromosome, 'list_significant_loci': list_loci})\n",
    "    x = []\n",
    "    y = []\n",
    "    for row in list_chromosomes:\n",
    "        chrom = row['chromosome']\n",
    "        chrom_int = 0\n",
    "        if(chrom == \"X\"):\n",
    "            chrom_int = 23\n",
    "        elif chrom == \"XY\": \n",
    "            chrom_int = 24\n",
    "        elif chrom == \"MT\":\n",
    "            chrom_int = 25\n",
    "        elif chrom == \"Y\":\n",
    "            chrom_int = 26\n",
    "        else:\n",
    "            chrom_int = chrom\n",
    "        #we can plot with only int values in bar chart hence encoded to int values\n",
    "        x.append(chrom_int)\n",
    "        y.append(len(row['list_significant_loci']))\n",
    "\n",
    "    total_sig = sum(y)\n",
    "    return list_chromosomes, total_sig"
   ]
  },
  {
   "cell_type": "code",
   "execution_count": null,
   "id": "4092b0f4",
   "metadata": {},
   "outputs": [],
   "source": [
    "hba1c_sig_loci, hba1c_total_sig = significant_loci_counts(df_HbA1c)"
   ]
  },
  {
   "cell_type": "code",
   "execution_count": null,
   "id": "1eab7b42",
   "metadata": {},
   "outputs": [],
   "source": [
    "hba1c_total_sig"
   ]
  },
  {
   "cell_type": "code",
   "execution_count": null,
   "id": "3c313c80",
   "metadata": {},
   "outputs": [],
   "source": []
  }
 ],
 "metadata": {
  "kernelspec": {
   "display_name": "Python 3 (ipykernel)",
   "language": "python",
   "name": "python3"
  },
  "language_info": {
   "codemirror_mode": {
    "name": "ipython",
    "version": 3
   },
   "file_extension": ".py",
   "mimetype": "text/x-python",
   "name": "python",
   "nbconvert_exporter": "python",
   "pygments_lexer": "ipython3",
   "version": "3.11.0"
  }
 },
 "nbformat": 4,
 "nbformat_minor": 5
}
