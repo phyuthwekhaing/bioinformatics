{
 "cells": [
  {
   "cell_type": "code",
   "execution_count": null,
   "id": "cc9ae5a5",
   "metadata": {},
   "outputs": [],
   "source": [
    "import pandas as pd\n",
    "import numpy as np\n",
    "import matplotlib.pyplot as plt\n",
    "import seaborn as sns\n",
    "from qmplot import manhattanplot\n",
    "import re\n",
    "from numpy.linalg import inv\n",
    "from pathlib import Path "
   ]
  },
  {
   "cell_type": "code",
   "execution_count": null,
   "id": "542620ce",
   "metadata": {},
   "outputs": [],
   "source": [
    "Omni_z =np.loadtxt('omni_z.txt', usecols=range(1))"
   ]
  },
  {
   "cell_type": "code",
   "execution_count": null,
   "id": "1da343b1",
   "metadata": {},
   "outputs": [],
   "source": [
    "df = pd.read_table(\"../output_csv/df_candidate.csv\", low_memory=False, sep=\";\")"
   ]
  },
  {
   "cell_type": "code",
   "execution_count": null,
   "id": "0f530ecf",
   "metadata": {},
   "outputs": [],
   "source": [
    "def formatdf_plot(df, p_values):\n",
    "    df = df.rename(columns={\"chromosome\": \"CHR\", \"base_pair_location\": \"BP\"})\n",
    "    df[\"P\"] = p_values\n",
    "    df.dropna(subset=['CHR', 'P'])\n",
    "    \n",
    "    df[\"SNP\"] = df[\"BP\"]\n",
    "    df[\"GENE\"] = \"Not Given\"\n",
    "    df[\"DISTANCE\"] = \"Not Given\" \n",
    "    \n",
    "    df = df.sort_values(by = ['CHR', \"BP\"]).reset_index()\n",
    "\n",
    "    return df"
   ]
  },
  {
   "cell_type": "code",
   "execution_count": null,
   "id": "b6a2c638",
   "metadata": {},
   "outputs": [],
   "source": [
    "df"
   ]
  },
  {
   "cell_type": "code",
   "execution_count": null,
   "id": "975ebdda",
   "metadata": {},
   "outputs": [],
   "source": [
    "df_omni_z = formatdf_plot(df, Omni_z)"
   ]
  },
  {
   "cell_type": "code",
   "execution_count": null,
   "id": "c77d084a",
   "metadata": {},
   "outputs": [],
   "source": [
    "df_omni_z"
   ]
  },
  {
   "cell_type": "code",
   "execution_count": null,
   "id": "95f40c26",
   "metadata": {},
   "outputs": [],
   "source": [
    "df_omni_plot = df_omni_z.dropna()"
   ]
  },
  {
   "cell_type": "code",
   "execution_count": null,
   "id": "d6b6eee3",
   "metadata": {},
   "outputs": [],
   "source": [
    "df_omni_plot = df_omni_plot.drop(columns='index').reset_index().drop(columns=\"index\")"
   ]
  },
  {
   "cell_type": "code",
   "execution_count": null,
   "id": "f5111bae",
   "metadata": {},
   "outputs": [],
   "source": [
    "df_omni_plot[df_omni_plot.P < 1e-6].reset_index().drop(columns=\"index\")"
   ]
  },
  {
   "cell_type": "code",
   "execution_count": null,
   "id": "c15a8f29",
   "metadata": {},
   "outputs": [],
   "source": [
    "import dash_bio\n",
    "dash_bio.ManhattanPlot(\n",
    "    dataframe=df_omni_plot[df_omni_plot.P < 1e-6].reset_index().drop(columns=\"index\"),\n",
    "    highlight_color='#00FFAA',\n",
    "    suggestiveline_color='#AA00AA',\n",
    "    genomewideline_color='#AA5500'\n",
    ")"
   ]
  },
  {
   "cell_type": "code",
   "execution_count": null,
   "id": "9661308c",
   "metadata": {},
   "outputs": [],
   "source": [
    "def plot_manhatten_plots(df, figname):\n",
    "    # generate manhattan plot and set an output file.\n",
    "    colors = plt.cm.PuBuGn(np.linspace(0, 0.7, 10))\n",
    "    xtick = set(['chr' + i for i in list(map(str, range(1, 10))) + ['11', '13', '15', '18', '21', '22', 'X', 'XY', 'MT']])\n",
    "    f, ax = plt.subplots(figsize=(12, 4), facecolor='w', edgecolor='k')\n",
    "    manhattanplot(data=df,\n",
    "                  marker=\".\",\n",
    "                  sign_marker_p=5e-8,  # Genome wide significant p-value\n",
    "                  sign_marker_color=colors[7],\n",
    "                  snp=\"POS\",\n",
    "\n",
    "                  title=figname,\n",
    "                  xlabel=\"Chromosome\",\n",
    "                  ylabel=r\"$-log_{10}{(P)}$\",\n",
    "\n",
    "                  sign_line_cols=[\"#D62728\", \"#2CA02C\"],\n",
    "                  hline_kws={\"linestyle\": \"--\", \"lw\": 1.3},\n",
    "                  ld_block_size=500000,  # 500000 bp\n",
    "                  text_kws={\"fontsize\": 12,  # The fontsize of annotate text\n",
    "                            \"arrowprops\": dict(arrowstyle=\"-\", color=\"k\", alpha=0.6)},\n",
    "                  ax=ax)\n",
    "    plt.title(figname)\n",
    "    plt.savefig(f'../output_figs/{re.sub(r\"[^a-zA-Z0-9]\",\"\",figname)}.jpg', dpi=400, bbox_inches='tight')\n",
    "    plt.show()"
   ]
  },
  {
   "cell_type": "code",
   "execution_count": null,
   "id": "89a1614d",
   "metadata": {},
   "outputs": [],
   "source": [
    "df_omni_z[df_omni_z.P < 1e-15]"
   ]
  },
  {
   "cell_type": "code",
   "execution_count": null,
   "id": "c510fe34",
   "metadata": {},
   "outputs": [],
   "source": [
    "df_omniz_plot = df_omni_z.dropna()"
   ]
  },
  {
   "cell_type": "code",
   "execution_count": null,
   "id": "6c282266",
   "metadata": {},
   "outputs": [],
   "source": [
    "df_omniz_plot[df_omniz_plot.P < 1e-8]"
   ]
  },
  {
   "cell_type": "code",
   "execution_count": null,
   "id": "3d877676",
   "metadata": {},
   "outputs": [],
   "source": [
    "df_omniz_plot.loc[df_omniz_plot.P == 0, 'P'] = 1e-323"
   ]
  },
  {
   "cell_type": "code",
   "execution_count": null,
   "id": "617d3bca",
   "metadata": {},
   "outputs": [],
   "source": [
    "plot_manhatten_plots(df_omniz_plot[df_omniz_plot.P < 1e-8], \"Omni Z\")"
   ]
  },
  {
   "cell_type": "code",
   "execution_count": null,
   "id": "c7cce4ef",
   "metadata": {},
   "outputs": [],
   "source": [
    "Sum_z =np.loadtxt('sum_z.txt', usecols=range(1))"
   ]
  },
  {
   "cell_type": "code",
   "execution_count": null,
   "id": "d888f47f",
   "metadata": {},
   "outputs": [],
   "source": [
    "df_sum_z = formatdf_plot(df, Sum_z)"
   ]
  },
  {
   "cell_type": "code",
   "execution_count": null,
   "id": "610de977",
   "metadata": {
    "scrolled": true
   },
   "outputs": [],
   "source": [
    "df_sum_z"
   ]
  },
  {
   "cell_type": "code",
   "execution_count": null,
   "id": "ce61524c",
   "metadata": {},
   "outputs": [],
   "source": [
    "import dash_bio\n",
    "dash_bio.ManhattanPlot(\n",
    "    dataframe=df_sum_z[df_sum_z.P < 1e-6].reset_index().drop(columns=\"index\"),\n",
    "    highlight_color='#00FFAA',\n",
    "    suggestiveline_color='#AA00AA',\n",
    "    genomewideline_color='#AA5500',\n",
    "    title=\"Sumz Test Manhattan Plot\"\n",
    ")"
   ]
  },
  {
   "cell_type": "code",
   "execution_count": null,
   "id": "b5eee28d",
   "metadata": {},
   "outputs": [],
   "source": [
    "df_sum_z_plot = df_sum_z.dropna(subset=['P'])\n",
    "df_sum_z_plot"
   ]
  },
  {
   "cell_type": "code",
   "execution_count": null,
   "id": "fcc4d28c",
   "metadata": {},
   "outputs": [],
   "source": [
    "df_sum_z_plot[df_sum_z_plot.P < 5e-3]"
   ]
  },
  {
   "cell_type": "code",
   "execution_count": null,
   "id": "89dc8a5b",
   "metadata": {},
   "outputs": [],
   "source": [
    "plot_manhatten_plots(df_sum_z_plot[df_sum_z_plot.P < 5e-3], \"Sum Z\")"
   ]
  },
  {
   "cell_type": "code",
   "execution_count": null,
   "id": "33ab4bf8",
   "metadata": {},
   "outputs": [],
   "source": [
    "SHom_scores = np.loadtxt('sHom_p.txt', usecols=range(1))"
   ]
  },
  {
   "cell_type": "code",
   "execution_count": null,
   "id": "967bc8e2",
   "metadata": {},
   "outputs": [],
   "source": [
    "df_SHom_scores = formatdf_plot(df, SHom_scores)"
   ]
  },
  {
   "cell_type": "code",
   "execution_count": null,
   "id": "96c08adb",
   "metadata": {},
   "outputs": [],
   "source": [
    "df_SHom_scores"
   ]
  },
  {
   "cell_type": "code",
   "execution_count": null,
   "id": "b814aaad",
   "metadata": {},
   "outputs": [],
   "source": [
    "df_SHom_scores[df_SHom_scores.P < 1e-6].reset_index().drop(columns=\"index\")"
   ]
  },
  {
   "cell_type": "code",
   "execution_count": null,
   "id": "a63136d0",
   "metadata": {},
   "outputs": [],
   "source": [
    "dash_bio.ManhattanPlot(\n",
    "    dataframe=df_SHom_scores[df_SHom_scores.P < 1e-6].reset_index().drop(columns=\"index\"),\n",
    "    highlight_color='#00FFAA',\n",
    "    suggestiveline_color='#AA00AA',\n",
    "    genomewideline_color='#AA5500',\n",
    "    title = \"SHom Test - Manhattan Plot\"\n",
    ")"
   ]
  },
  {
   "cell_type": "code",
   "execution_count": null,
   "id": "d801842a",
   "metadata": {},
   "outputs": [],
   "source": [
    "df_SHom_scores = df_SHom_scores.dropna(subset='P')\n",
    "df_SHom_scores"
   ]
  },
  {
   "cell_type": "code",
   "execution_count": null,
   "id": "027ad063",
   "metadata": {},
   "outputs": [],
   "source": [
    "plot_df = df_SHom_scores[(np.abs(df_SHom_scores.P) >0) & (np.abs(df_SHom_scores.P) < 1e-6) ]"
   ]
  },
  {
   "cell_type": "code",
   "execution_count": null,
   "id": "839fb819",
   "metadata": {},
   "outputs": [],
   "source": [
    "plot_df.P = np.abs(plot_df.P)"
   ]
  },
  {
   "cell_type": "code",
   "execution_count": null,
   "id": "f8d5b111",
   "metadata": {},
   "outputs": [],
   "source": [
    "plot_manhatten_plots(plot_df, \"SHom Test\")"
   ]
  },
  {
   "cell_type": "code",
   "execution_count": null,
   "id": "4115fcae",
   "metadata": {},
   "outputs": [],
   "source": [
    "import matplotlib.pyplot as plt\n",
    "from qmplot import qqplot\n",
    "\n",
    "# Create a Q-Q plot\n",
    "f, ax = plt.subplots(figsize=(6, 6), facecolor=\"w\", edgecolor=\"k\")\n",
    "qqplot(data=plot_df[plot_df.P < 1e-6].P,\n",
    "       marker=\"o\",\n",
    "       title=\"SHom P\",\n",
    "       xlabel=r\"Expected $-log_{10}{(P)}$\",\n",
    "       ylabel=r\"Observed $-log_{10}{(P)}$\",\n",
    "       ax=ax)\n",
    "\n",
    "plt.savefig(\"../output_figs/sHom.QQ.png\")"
   ]
  },
  {
   "cell_type": "code",
   "execution_count": null,
   "id": "709ab05e",
   "metadata": {},
   "outputs": [],
   "source": [
    "SHet_scores = np.loadtxt('SHet_p.txt', usecols=range(1))"
   ]
  },
  {
   "cell_type": "code",
   "execution_count": null,
   "id": "2c0d2f85",
   "metadata": {},
   "outputs": [],
   "source": [
    "df_SHet_scores = formatdf_plot(df, SHet_scores)"
   ]
  },
  {
   "cell_type": "code",
   "execution_count": null,
   "id": "24d11d1f",
   "metadata": {},
   "outputs": [],
   "source": [
    "df_SHet_scores[df_SHet_scores.P < 1e-8]"
   ]
  },
  {
   "cell_type": "code",
   "execution_count": null,
   "id": "b2fadc58",
   "metadata": {},
   "outputs": [],
   "source": [
    "dash_bio.ManhattanPlot(\n",
    "    dataframe=df_SHet_scores[df_SHet_scores.P < 1e-8].reset_index().drop(columns=\"index\"),\n",
    "    highlight_color='#00FFAA',\n",
    "    suggestiveline_color='#AA00AA',\n",
    "    genomewideline_color='#AA5500',\n",
    "    title = \"SHet Test - Manhattan Plot\"\n",
    ")"
   ]
  },
  {
   "cell_type": "code",
   "execution_count": null,
   "id": "2a1ec540",
   "metadata": {},
   "outputs": [],
   "source": [
    "from scipy import stats\n",
    "import plotly.graph_objects as go\n",
    "import plotly.graph_objects as go\n",
    "qq = stats.probplot(df_SHet_scores[df_SHet_scores.P<1e-6].reset_index().drop(columns='index').P, dist='lognorm', sparams=(1))\n",
    "x = np.array([qq[0][0][0], qq[0][0][-1]])\n",
    "\n",
    "fig = go.Figure()\n",
    "fig.add_scatter(x=qq[0][0], y=qq[0][1], mode='markers')\n",
    "fig.add_scatter(x=x, y=qq[1][1] + qq[1][0]*x, mode='lines')\n",
    "fig.layout.update(showlegend=False)\n",
    "fig.show()"
   ]
  },
  {
   "cell_type": "code",
   "execution_count": null,
   "id": "ac0f5af6",
   "metadata": {},
   "outputs": [],
   "source": [
    "qq = stats.probplot(df_SHom_scores[df_SHom_scores.P<1e-6].reset_index().drop(columns=\"index\").P, dist='lognorm', sparams=(1))\n",
    "x = np.array([qq[0][0][0], qq[0][0][-1]])\n",
    "fig = go.Figure()\n",
    "fig.add_scatter(x=qq[0][0], y=qq[0][1], mode='markers')\n",
    "fig.add_scatter(x=x, y=qq[1][1] + qq[1][0]*x, mode='lines')\n",
    "fig.layout.update(showlegend=False)\n",
    "fig.show()"
   ]
  },
  {
   "cell_type": "code",
   "execution_count": null,
   "id": "25baa93a",
   "metadata": {},
   "outputs": [],
   "source": [
    "plot_manhatten_plots(df_SHet_scores[(df_SHet_scores.P > 0) & (df_SHet_scores.P < 1e-5)], \"SHet Test\")"
   ]
  },
  {
   "cell_type": "code",
   "execution_count": null,
   "id": "4efa10fa",
   "metadata": {},
   "outputs": [],
   "source": [
    "# Create a Q-Q plot\n",
    "f, ax = plt.subplots(figsize=(6, 6), facecolor=\"w\", edgecolor=\"k\")\n",
    "qqplot(data=df_SHet_scores[(df_SHet_scores.P > 0) & (df_SHet_scores.P < 1e-5)].P,\n",
    "       marker=\"o\",\n",
    "       title=\"SHet P\",\n",
    "       xlabel=r\"Expected $-log_{10}{(P)}$\",\n",
    "       ylabel=r\"Observed $-log_{10}{(P)}$\",\n",
    "       ax=ax)\n",
    "\n",
    "plt.savefig(\"sHet.QQ.png\")"
   ]
  },
  {
   "cell_type": "code",
   "execution_count": null,
   "id": "4ff02061",
   "metadata": {},
   "outputs": [],
   "source": [
    "def plot_significant_loci_counts(df, dataset_name):\n",
    "    df = df.rename(columns={\"#CHROM\": \"chromosome\", \"POS\": \"base_pair_location\", \"P\": \"p_value\"})\n",
    "    list_chromosomes = []\n",
    "    for chromosome in set(df.chromosome):\n",
    "        list_loci = []\n",
    "        bp_pos = []\n",
    "        df_chromosome = df[df.chromosome == chromosome]\n",
    "        df_chromosome = df_chromosome.sort_values(by = ['base_pair_location']).reset_index()\n",
    "        df_chromosome = df_chromosome.drop(['index'], axis=1)\n",
    "        df_chromosome.reset_index(inplace=True, drop=True); \n",
    "        df_significant_chromosome = df_chromosome[np.abs(df_chromosome['p_value']) < 5e-8]\n",
    "        print(df_significant_chromosome.shape[0])\n",
    "        if(len(df_significant_chromosome) > 0):\n",
    "            first_bp = df_significant_chromosome.base_pair_location.to_list()[0]\n",
    "            counter = 1\n",
    "            for bp in df_significant_chromosome.base_pair_location:\n",
    "                if first_bp == 0:\n",
    "                    bp_pos = []\n",
    "                    bp_pos.append(first_bp)\n",
    "                    first_bp = bp\n",
    "                    counter = 0\n",
    "                elif(bp - first_bp < 1000000):\n",
    "                    counter+= 1\n",
    "                    bp_pos.append(bp)\n",
    "                    continue\n",
    "                else:\n",
    "                   #if(counter > 10): \n",
    "                   list_loci.append({\"start_pos\": first_bp, \"end_pos\": bp_pos[len(bp_pos) - 1], \"bp_pos\":bp_pos, \"sig_count\": counter})\n",
    "                   first_bp = 0\n",
    "            list_chromosomes.append({'chromosome': chromosome, 'list_significant_loci': list_loci})\n",
    "    x = []\n",
    "    y = []\n",
    "    for row in list_chromosomes:\n",
    "        chrom = row['chromosome']\n",
    "        chrom_int = 0\n",
    "        if(chrom == \"X\"):\n",
    "            chrom_int = 23\n",
    "        elif chrom == \"XY\": \n",
    "            chrom_int = 24\n",
    "        elif chrom == \"MT\":\n",
    "            chrom_int = 25\n",
    "        elif chrom == \"Y\":\n",
    "            chrom_int = 26\n",
    "        else:\n",
    "            chrom_int = chrom\n",
    "        #we can plot with only int values in bar chart hence encoded to int values\n",
    "        x.append(chrom_int)\n",
    "        y.append(len(row['list_significant_loci']))\n",
    "\n",
    "    \n",
    "    ##fig = plt.figure()\n",
    "    #ax = fig.add_axes([0,0,1,1])\n",
    "    #ax.bar(x,y)\n",
    "    #ax.set_title(f'{dataset_name}: Significant Loci Count per chromosome')\n",
    "    #plt.xticks(rotation='vertical', fontsize = 5)\n",
    "    #plt.gca().xaxis.set_major_locator(plt.MultipleLocator(1))\n",
    "    #plt.savefig(f'../output_figs/{re.sub(r\"[^a-zA-Z0-9]\",\"\",dataset_name)}_significant_loci_graph.jpg', dpi=400, bbox_inches='tight')\n",
    "    #plt.show()\n",
    "    #print(sum(y))\n",
    "    total_sig = sum(y)\n",
    "    return list_chromosomes, total_sig\n"
   ]
  },
  {
   "cell_type": "code",
   "execution_count": null,
   "id": "d285c10c",
   "metadata": {},
   "outputs": [],
   "source": [
    "df_omni_z"
   ]
  },
  {
   "cell_type": "code",
   "execution_count": null,
   "id": "05f5e3a6",
   "metadata": {},
   "outputs": [],
   "source": [
    "def count_suggestive_loci_counts(df, dataset_name, sig):\n",
    "    df = df.rename(columns={\"CHR\": \"chromosome\", \"BP\": \"base_pair_location\", \"P\": \"p_value\"})\n",
    "    list_chromosomes = []\n",
    "    for chromosome in set(df.chromosome):\n",
    "        list_loci = []\n",
    "        bp_pos = []\n",
    "        df_chromosome = df[df.chromosome == chromosome]\n",
    "        df_chromosome = df_chromosome.sort_values(by = ['base_pair_location']).reset_index()\n",
    "        df_chromosome = df_chromosome.drop(['index'], axis=1)\n",
    "        df_chromosome.reset_index(inplace=True, drop=True); \n",
    "        df_significant_chromosome = df_chromosome[df_chromosome['p_value'] < sig]\n",
    "        if(len(df_significant_chromosome) > 0):\n",
    "            first_bp = 0 \n",
    "            counter = 1\n",
    "            for bp in df_significant_chromosome.base_pair_location:\n",
    "                if first_bp == 0:\n",
    "                    bp_pos = []\n",
    "                    bp_pos.append(first_bp)\n",
    "                    first_bp = bp\n",
    "                    counter = 0\n",
    "                elif(bp - first_bp < 1000000):\n",
    "                    counter+= 1\n",
    "                    bp_pos.append(bp)\n",
    "                    continue\n",
    "                else:\n",
    "                   #if(counter > 10): \n",
    "                   list_loci.append({\"start_pos\": first_bp, \"end_pos\": bp_pos[len(bp_pos) - 1], \"bp_pos\":bp_pos, \"sig_count\": counter})\n",
    "                   first_bp = 0\n",
    "            list_loci.append({\"start_pos\": first_bp, \"end_pos\": bp_pos[len(bp_pos) - 1], \"bp_pos\":bp_pos, \"sig_count\": counter})\n",
    "            list_chromosomes.append({'chromosome': chromosome, 'list_significant_loci': list_loci})\n",
    "    x = []\n",
    "    y = []\n",
    "    for row in list_chromosomes:\n",
    "        chrom = row['chromosome']\n",
    "        chrom_int = 0\n",
    "        if(chrom == \"X\"):\n",
    "            chrom_int = 23\n",
    "        elif chrom == \"XY\": \n",
    "            chrom_int = 24\n",
    "        elif chrom == \"MT\":\n",
    "            chrom_int = 25\n",
    "        elif chrom == \"Y\":\n",
    "            chrom_int = 26\n",
    "        else:\n",
    "            chrom_int = chrom\n",
    "        #we can plot with only int values in bar chart hence encoded to int values\n",
    "        x.append(chrom_int)\n",
    "        y.append(len(row['list_significant_loci']))\n",
    "\n",
    "    total_sig = sum(y)\n",
    "    return list_chromosomes, total_sig"
   ]
  },
  {
   "cell_type": "code",
   "execution_count": null,
   "id": "3123b4ca",
   "metadata": {},
   "outputs": [],
   "source": [
    "omni_sig_loci, omni_total_sig = count_suggestive_loci_counts(df_omni_z, \"Omni Z\", 5e-8)"
   ]
  },
  {
   "cell_type": "code",
   "execution_count": null,
   "id": "257f5e65",
   "metadata": {},
   "outputs": [],
   "source": [
    "filepath = Path('../output_csv/df_omni_z.csv')  \n",
    "filepath.parent.mkdir(parents=True, exist_ok=True) \n",
    "#save progress after omni p values\n",
    "df_omni_z.to_csv(filepath, index=False, sep = ';') "
   ]
  },
  {
   "cell_type": "code",
   "execution_count": null,
   "id": "1aafa275",
   "metadata": {},
   "outputs": [],
   "source": [
    "omni_total_sig"
   ]
  },
  {
   "cell_type": "code",
   "execution_count": null,
   "id": "1a4cb9ca",
   "metadata": {},
   "outputs": [],
   "source": [
    "sumz_sig_loci, sumz_total_sig = count_suggestive_loci_counts(df_sum_z, \"Sum Z\", 5e-8)\n",
    "sumz_total_sig"
   ]
  },
  {
   "cell_type": "code",
   "execution_count": null,
   "id": "9da486e0",
   "metadata": {},
   "outputs": [],
   "source": [
    "filepath = Path('../output_csv/df_sum_z.csv')  \n",
    "filepath.parent.mkdir(parents=True, exist_ok=True) \n",
    "#save progress after omni p values\n",
    "df_sum_z.to_csv(filepath, index=False, sep = ';') "
   ]
  },
  {
   "cell_type": "code",
   "execution_count": null,
   "id": "eb09aa78",
   "metadata": {},
   "outputs": [],
   "source": [
    "shet_sig_loci, shet_total_sig = count_suggestive_loci_counts(df_SHet_scores, \"SHet\", 5e-8)\n",
    "shet_total_sig"
   ]
  },
  {
   "cell_type": "code",
   "execution_count": null,
   "id": "18af2d14",
   "metadata": {},
   "outputs": [],
   "source": [
    "filepath = Path('../output_csv/df_SHet_scores.csv')  \n",
    "filepath.parent.mkdir(parents=True, exist_ok=True) \n",
    "#save progress after omni p values\n",
    "df_SHet_scores.to_csv(filepath, index=False, sep = ';') "
   ]
  },
  {
   "cell_type": "code",
   "execution_count": null,
   "id": "c89ac796",
   "metadata": {},
   "outputs": [],
   "source": [
    "shom_sig_loci, shom_total_sig = count_suggestive_loci_counts(df_SHom_scores, \"SHom\", 5e-8)\n",
    "shom_total_sig"
   ]
  },
  {
   "cell_type": "code",
   "execution_count": null,
   "id": "f316b90e",
   "metadata": {},
   "outputs": [],
   "source": [
    "filepath = Path('../output_csv/df_SHom_scores.csv')  \n",
    "filepath.parent.mkdir(parents=True, exist_ok=True) \n",
    "#save progress after omni p values\n",
    "df_SHom_scores.to_csv(filepath, index=False, sep = ';') "
   ]
  },
  {
   "cell_type": "code",
   "execution_count": null,
   "id": "d8d5a15f",
   "metadata": {},
   "outputs": [],
   "source": [
    "x = [\"Omni Z\", \"Sum Z\", \"SHet\", \"SHom\"]\n",
    "y = [omni_total_sig, sumz_total_sig, shet_total_sig, shom_total_sig]\n",
    "\n",
    "fig = plt.figure()\n",
    "ax = fig.add_axes([0,0,1,1])\n",
    "ax.bar(x,y, color=\"#04D8B2\")\n",
    "ax.set_title('Significant Loci Count per test')\n",
    "plt.xticks(rotation='vertical', fontsize = 8)\n",
    "plt.gca().xaxis.set_major_locator(plt.MultipleLocator(1))\n",
    "plt.savefig(f'../output_figs/{re.sub(r\"[^a-zA-Z0-9]\",\"\",\"Significant Loci Count per test\")}.jpg', dpi=400, bbox_inches='tight')\n",
    "plt.show()"
   ]
  },
  {
   "cell_type": "code",
   "execution_count": null,
   "id": "54cd2e83",
   "metadata": {},
   "outputs": [],
   "source": []
  },
  {
   "cell_type": "code",
   "execution_count": null,
   "id": "8dd810af",
   "metadata": {},
   "outputs": [],
   "source": [
    "df_SHet_scores[np.abs(df_SHet_scores['P']) < 5e-8]"
   ]
  },
  {
   "cell_type": "code",
   "execution_count": null,
   "id": "2d702175",
   "metadata": {},
   "outputs": [],
   "source": [
    "df_candidate = pd.read_table(\"../output_csv/df_candidate.csv\", low_memory=False, sep=\";\")"
   ]
  },
  {
   "cell_type": "code",
   "execution_count": null,
   "id": "eed835cc",
   "metadata": {},
   "outputs": [],
   "source": [
    "df_candidate"
   ]
  },
  {
   "cell_type": "code",
   "execution_count": null,
   "id": "3ddc9b11",
   "metadata": {},
   "outputs": [],
   "source": [
    "df_sig = df_candidate[df_candidate.]"
   ]
  },
  {
   "cell_type": "code",
   "execution_count": null,
   "id": "2d27615a",
   "metadata": {},
   "outputs": [],
   "source": [
    "df_omni_sig = df_omni_z[df_omni_z.P < 5e-8]"
   ]
  },
  {
   "cell_type": "code",
   "execution_count": null,
   "id": "bf7afe23",
   "metadata": {},
   "outputs": [],
   "source": [
    "df_omni_sig"
   ]
  },
  {
   "cell_type": "code",
   "execution_count": null,
   "id": "ff1c09e1",
   "metadata": {},
   "outputs": [],
   "source": [
    "df_omni_sig[:][['CHR', 'BP']].to_numpy()"
   ]
  },
  {
   "cell_type": "code",
   "execution_count": null,
   "id": "55d26197",
   "metadata": {},
   "outputs": [],
   "source": [
    "noval_loci = []\n",
    "for chrom, pos, p in df_omni_sig[:][['CHR', 'BP', 'P']].to_numpy():\n",
    "    found = False\n",
    "    for chrom_check, pos_check in df_sig[:][['chromosome', 'base_pair_location']].to_numpy():\n",
    "        if(chrom == chrom_check) and (pos == pos_check):\n",
    "            found = True\n",
    "    if(found == False):\n",
    "        noval_loci.append([chrom, pos, p])\n",
    "noval_loci\n",
    "        \n",
    "            "
   ]
  },
  {
   "cell_type": "code",
   "execution_count": null,
   "id": "9daa0448",
   "metadata": {},
   "outputs": [],
   "source": [
    "column_values = ['chromosome', 'base_pair_location', 'p_value']\n",
    "  \n",
    "# creating the dataframe\n",
    "df_omni_noval_loci = pd.DataFrame(data = noval_loci, \n",
    "                  columns = column_values)\n",
    "  \n",
    "# displaying the dataframe\n",
    "df_omni_noval_loci"
   ]
  },
  {
   "cell_type": "code",
   "execution_count": null,
   "id": "c00f1abe",
   "metadata": {},
   "outputs": [],
   "source": [
    "omni_noval_loci, omni_total_noval = count_suggestive_loci_counts(df_omni_noval_loci, \"Omni Z\", 5e-8)"
   ]
  },
  {
   "cell_type": "code",
   "execution_count": null,
   "id": "dc30b7c5",
   "metadata": {},
   "outputs": [],
   "source": [
    "omni_total_noval"
   ]
  },
  {
   "cell_type": "code",
   "execution_count": null,
   "id": "1c120627",
   "metadata": {},
   "outputs": [],
   "source": [
    "df_sumz_sig = df_sum_z[df_sum_z.P < 5e-8]"
   ]
  },
  {
   "cell_type": "code",
   "execution_count": null,
   "id": "1266218e",
   "metadata": {},
   "outputs": [],
   "source": [
    "sumz_noval_loci = []\n",
    "for chrom, pos, p in df_sumz_sig[:][['#CHROM', 'POS', 'P']].to_numpy():\n",
    "    found = False\n",
    "    for chrom_check, pos_check in df_sig[:][['chromosome', 'base_pair_location']].to_numpy():\n",
    "        if(chrom == chrom_check) and (pos == pos_check):\n",
    "            found = True\n",
    "    if(found == False):\n",
    "        sumz_noval_loci.append([chrom, pos, p])\n",
    "sumz_noval_loci"
   ]
  },
  {
   "cell_type": "code",
   "execution_count": null,
   "id": "1d48974d",
   "metadata": {},
   "outputs": [],
   "source": [
    "column_values = ['chromosome', 'base_pair_location', 'p_value']\n",
    "  \n",
    "# creating the dataframe\n",
    "df_sumz_noval_loci = pd.DataFrame(data = sumz_noval_loci, \n",
    "                  columns = column_values)\n",
    "  \n",
    "# displaying the dataframe\n",
    "df_sumz_noval_loci"
   ]
  },
  {
   "cell_type": "code",
   "execution_count": null,
   "id": "2dc888fa",
   "metadata": {},
   "outputs": [],
   "source": [
    "sumz_noval_loci, sumz_total_noval = count_suggestive_loci_counts(df_sumz_noval_loci, \"Sum Z\", 5e-8)"
   ]
  },
  {
   "cell_type": "code",
   "execution_count": null,
   "id": "7ba25ab0",
   "metadata": {},
   "outputs": [],
   "source": [
    "sumz_total_noval"
   ]
  },
  {
   "cell_type": "code",
   "execution_count": null,
   "id": "c69c0167",
   "metadata": {},
   "outputs": [],
   "source": [
    "df_SHet_sig = df_SHet_scores[np.abs(df_SHet_scores.P) < 5e-8]"
   ]
  },
  {
   "cell_type": "code",
   "execution_count": null,
   "id": "ba22881c",
   "metadata": {},
   "outputs": [],
   "source": [
    "sHet_noval_loci = []\n",
    "for chrom, pos, p in df_SHet_sig[:][['#CHROM', 'POS', 'P']].to_numpy():\n",
    "    found = False\n",
    "    for chrom_check, pos_check in df_sig[:][['chromosome', 'base_pair_location']].to_numpy():\n",
    "        if(chrom == chrom_check) and (pos == pos_check):\n",
    "            found = True\n",
    "    if(found == False):\n",
    "        sHet_noval_loci.append([chrom, pos, p])\n",
    "sHet_noval_loci"
   ]
  },
  {
   "cell_type": "code",
   "execution_count": null,
   "id": "0a3df304",
   "metadata": {},
   "outputs": [],
   "source": [
    "column_values = ['chromosome', 'base_pair_location', 'p_value']\n",
    "  \n",
    "# creating the dataframe\n",
    "df_sHet_noval_loci = pd.DataFrame(data = sHet_noval_loci, \n",
    "                  columns = column_values)\n",
    "  \n",
    "# displaying the dataframe\n",
    "df_sHet_noval_loci"
   ]
  },
  {
   "cell_type": "code",
   "execution_count": null,
   "id": "4536d633",
   "metadata": {},
   "outputs": [],
   "source": [
    "sHet_noval_loci, sHet_total_noval = count_suggestive_loci_counts(df_sHet_noval_loci, \"SHet\", 5e-8)"
   ]
  },
  {
   "cell_type": "code",
   "execution_count": null,
   "id": "8504f0be",
   "metadata": {},
   "outputs": [],
   "source": [
    "sHet_total_noval"
   ]
  },
  {
   "cell_type": "code",
   "execution_count": null,
   "id": "95fbf35a",
   "metadata": {},
   "outputs": [],
   "source": [
    "df_SHom_sig = plot_df[np.abs(plot_df.P) < 5e-8]"
   ]
  },
  {
   "cell_type": "code",
   "execution_count": null,
   "id": "04bbdf19",
   "metadata": {},
   "outputs": [],
   "source": [
    "df_SHom_sig"
   ]
  },
  {
   "cell_type": "code",
   "execution_count": null,
   "id": "48b7d58c",
   "metadata": {},
   "outputs": [],
   "source": [
    "sHom_noval_loci = []\n",
    "for chrom, pos, p in df_SHom_sig[:][['#CHROM', 'POS', 'P']].to_numpy():\n",
    "    found = False\n",
    "    for chrom_check, pos_check in df_sig[:][['chromosome', 'base_pair_location']].to_numpy():\n",
    "        if(chrom == chrom_check) and (pos == pos_check):\n",
    "            found = True\n",
    "    if(found == False):\n",
    "        sHom_noval_loci.append([chrom, pos, p])\n",
    "sHom_noval_loci"
   ]
  },
  {
   "cell_type": "code",
   "execution_count": null,
   "id": "d361c7bf",
   "metadata": {},
   "outputs": [],
   "source": [
    "column_values = ['chromosome', 'base_pair_location', 'p_value']\n",
    "  \n",
    "# creating the dataframe\n",
    "df_sHom_noval_loci = pd.DataFrame(data = sHom_noval_loci, \n",
    "                  columns = column_values)\n",
    "  \n",
    "# displaying the dataframe\n",
    "df_sHom_noval_loci"
   ]
  },
  {
   "cell_type": "code",
   "execution_count": null,
   "id": "7961425a",
   "metadata": {},
   "outputs": [],
   "source": [
    "sHom_noval_loci, sHom_total_noval = count_suggestive_loci_counts(df_sHom_noval_loci, \"SHom\", 5e-8)"
   ]
  },
  {
   "cell_type": "code",
   "execution_count": null,
   "id": "59f72bb6",
   "metadata": {},
   "outputs": [],
   "source": [
    "sHom_total_noval"
   ]
  },
  {
   "cell_type": "code",
   "execution_count": null,
   "id": "7fcdd8e8",
   "metadata": {},
   "outputs": [],
   "source": [
    "x = [\"Omni Z\", \"Sum Z\", \"SHet\", \"SHom\"]\n",
    "y = [omni_total_noval, sumz_total_noval, sHet_total_noval, sHom_total_noval]\n",
    "\n",
    "fig = plt.figure()\n",
    "ax = fig.add_axes([0,0,1,1])\n",
    "ax.bar(x,y)\n",
    "ax.set_title('Significant Loci Count per test')\n",
    "plt.xticks(rotation='vertical', fontsize = 8)\n",
    "plt.gca().xaxis.set_major_locator(plt.MultipleLocator(1))\n",
    "plt.savefig(f'../output_figs/{re.sub(r\"[^a-zA-Z0-9]\",\"\",\"Noval Loci Count per test\")}.jpg', dpi=400, bbox_inches='tight')\n",
    "plt.show()"
   ]
  },
  {
   "cell_type": "code",
   "execution_count": null,
   "id": "5fb7d6cf",
   "metadata": {},
   "outputs": [],
   "source": [
    "df_SHom_scores"
   ]
  },
  {
   "cell_type": "code",
   "execution_count": null,
   "id": "3b648635",
   "metadata": {},
   "outputs": [],
   "source": [
    "from scipy.stats import chi2\n",
    "p_value = chi2.pdf(df_SHom_scores.P, 1)"
   ]
  },
  {
   "cell_type": "code",
   "execution_count": null,
   "id": "c765c198",
   "metadata": {},
   "outputs": [],
   "source": [
    "p_value"
   ]
  },
  {
   "cell_type": "code",
   "execution_count": null,
   "id": "a0cf181a",
   "metadata": {},
   "outputs": [],
   "source": [
    "df_SHom_scores['chisq_p'] = p_value"
   ]
  },
  {
   "cell_type": "code",
   "execution_count": null,
   "id": "f8b49f74",
   "metadata": {},
   "outputs": [],
   "source": [
    "df_SHom_scores[(np.abs(df_SHom_scores.chisq_p) > 0) & (np.abs(df_SHom_scores.chisq_p) < 1e-6)]"
   ]
  },
  {
   "cell_type": "code",
   "execution_count": null,
   "id": "b34b6e05",
   "metadata": {},
   "outputs": [],
   "source": []
  }
 ],
 "metadata": {
  "kernelspec": {
   "display_name": "Python 3 (ipykernel)",
   "language": "python",
   "name": "python3"
  },
  "language_info": {
   "codemirror_mode": {
    "name": "ipython",
    "version": 3
   },
   "file_extension": ".py",
   "mimetype": "text/x-python",
   "name": "python",
   "nbconvert_exporter": "python",
   "pygments_lexer": "ipython3",
   "version": "3.11.0"
  }
 },
 "nbformat": 4,
 "nbformat_minor": 5
}
